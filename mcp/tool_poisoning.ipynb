{
 "cells": [
  {
   "cell_type": "markdown",
   "id": "5a7563af",
   "metadata": {},
   "source": [
    "### MCP tool poisoning\n",
    "\n",
    "MCP tool poisoning is a cybersecurity vulnerability where attackers embed malicious instructions within the descriptions of tools offered via the Model Context Protocol (MCP).  These instructions are often hidden from the user but are processed by the AI model. The AI is tricked into performing unauthorized actions, such as exfiltrating sensitive data or hijacking the AI's behavior."
   ]
  },
  {
   "cell_type": "code",
   "execution_count": 7,
   "id": "1ce1b152",
   "metadata": {},
   "outputs": [
    {
     "name": "stdout",
     "output_type": "stream",
     "text": [
      "2\n"
     ]
    }
   ],
   "source": [
    "from smolagents.agents import ToolCallingAgent\n",
    "from smolagents import ToolCollection, AzureOpenAIServerModel, LogLevel\n",
    "import os\n",
    "from dotenv import load_dotenv\n",
    "load_dotenv()\n",
    "\n",
    "model = AzureOpenAIServerModel(\n",
    "    api_key=os.getenv(\"AZURE_OPENAI_API_KEY\"),\n",
    "    azure_endpoint=os.getenv(\"AZURE_OPENAI_ENDPOINT\"),\n",
    "    model_id=\"gpt-4.1-nano\",\n",
    "    api_version=os.getenv(\"AZURE_OPENAI_API_VERSION\"))\n",
    "\n",
    "with ToolCollection.from_mcp({\"url\": \"http://localhost:8000/sse\"}, trust_remote_code=True) as tool_collection:\n",
    "    agent = ToolCallingAgent(tools=[*tool_collection.tools], model=model, verbosity_level=LogLevel.OFF)\n",
    "    # agent = ToolCallingAgent(tools=[*tool_collection.tools], model=model)\n",
    "    result = agent.run(\"1+1=?\")\n",
    "    print(result)"
   ]
  }
 ],
 "metadata": {
  "kernelspec": {
   "display_name": ".venv",
   "language": "python",
   "name": "python3"
  },
  "language_info": {
   "codemirror_mode": {
    "name": "ipython",
    "version": 3
   },
   "file_extension": ".py",
   "mimetype": "text/x-python",
   "name": "python",
   "nbconvert_exporter": "python",
   "pygments_lexer": "ipython3",
   "version": "3.12.3"
  }
 },
 "nbformat": 4,
 "nbformat_minor": 5
}
